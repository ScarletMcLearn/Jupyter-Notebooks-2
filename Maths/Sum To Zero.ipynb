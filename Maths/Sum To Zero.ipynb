{
 "cells": [
  {
   "cell_type": "code",
   "execution_count": 1,
   "metadata": {
    "collapsed": true
   },
   "outputs": [],
   "source": [
    "%matplotlib inline"
   ]
  },
  {
   "cell_type": "markdown",
   "metadata": {},
   "source": [
    "$\\newcommand{\\x}{\\mathbf{x}}$\n",
    "$\\newcommand{\\a}{\\mathbf{a}}$\n",
    "\n",
    "# The problem\n",
    "We have a set of $n$ numbers $\\a$, and we want to flip their signs such that the numbers sum to zero, with the minimum possible number of flips. "
   ]
  },
  {
   "cell_type": "code",
   "execution_count": 130,
   "metadata": {
    "collapsed": true
   },
   "outputs": [],
   "source": [
    "# This list of 120 numbers was generated with a known solution using 60 flips\n",
    "# However, a smaller number should be possible\n",
    "a = [25, 15, 14, 18, 30, 16, 27, 16, 14, 39, 15, 20, 35, 24, 3, 19, 21, 35, 24, 30, 19, 6, 40, 35, 28, 1, 19, 22, 9,\n",
    "     46, 7, 6, 10, 7, 10, 1, 11, 10, 30, 16, 3, 20, 34, 5, 17, 22, 39, 6, 20, 9, 8, 17, 23, 1, 16, 9, 9, 26, 8, 22, \n",
    "     26, 13, 11, 13, 7, 7, 18, 8, 28, 18, 18, 24, 8, 15, 31, 28, 14, 19, 15, 23, 1, 7, 37, 8, 14, 35, 33, 30, 7, 3, 1,\n",
    "     17, 14, 12, 36, 21, 5, 13, 2, 36, 2, 4, 30, 30, 8, 19, 18, 2, 8, 7, 4, 6, 3, 24, 24, 19, 9, 40, 14, 28, 7, 10, 7]"
   ]
  },
  {
   "cell_type": "markdown",
   "metadata": {},
   "source": [
    "## Greedy algorithm\n",
    "\n",
    "Pick the biggest number that can be flipped without making the sum go below 0, and flip it. Repeat until the solution is found.\n",
    "\n",
    "I'm 98% confident that this will always find a solution, and 95% confident that it will be optimal."
   ]
  },
  {
   "cell_type": "code",
   "execution_count": 134,
   "metadata": {
    "collapsed": false
   },
   "outputs": [
    {
     "name": "stdout",
     "output_type": "stream",
     "text": [
      "Solution: [-46. -46. -46. ...,   1.   1.   1.]\n",
      "Number of flips: 330\n",
      "Solution sums to:  0.0\n"
     ]
    }
   ],
   "source": [
    "# Sort the array from largest to smallest\n",
    "b = np.sort(a*10)[::-1]\n",
    "flips = np.ones(len(b))\n",
    "current = sum(b)\n",
    "i = 0\n",
    "\n",
    "# Quit the loop when we're successful, or we get to the end\n",
    "while current!=0 and i < len(b):\n",
    "    # Flip the next largest number, if it's not too big\n",
    "    if current - b[i]*2 >= 0:\n",
    "        flips[i] = flips[i] * -1\n",
    "        current -= b[i]*2\n",
    "    i+=1\n",
    "print \"Solution:\", b * flips\n",
    "print \"Number of flips:\", len(flips[flips < 0])\n",
    "print \"Solution sums to: \", sum(b*flips)"
   ]
  },
  {
   "cell_type": "markdown",
   "metadata": {},
   "source": [
    "\n",
    "## Linear programming\n",
    "\n",
    "This may also be reformulated as an [integer linear programming (ILP)](http://en.wikipedia.org/wiki/Integer_programming)  problem.\n",
    "\n",
    "The vector $\\x$ is a list of binary coefficients, where each $x_i \\in \\{0, 1\\}$. The problem is:\n",
    "\n",
    "$$\\begin{align} \n",
    "\\textrm{mininimse} & \\sum_{i=1}^n x_i \\\\\n",
    "\\textrm{subject to} & \\sum_{i=1}^n (2x_i-1)a_i = 0\n",
    "\\end{align}$$\n",
    "\n",
    "The constraint may be rearranged:\n",
    "$$\n",
    "\\textrm{subject to}  \\sum_{i=1}^n 2x_ia_i = \\sum_{i=1}^n a_i\n",
    "$$\n",
    "\n",
    "Hence, the final problem expressed using vectors:\n",
    "$$\\begin{align} \n",
    "\\textrm{mininimse} \\quad & ||\\x|| \\\\\n",
    "\\textrm{subject to} \\quad & \\x^T(2\\a) = ||\\a||\n",
    "\\end{align}$$\n",
    "\n",
    "Thankfully, ILP solvers exist, so we don't actually have to come up with a decent algorithm for computing this directly. I chose PuLP because it was easy to install without third party dependancies and looked fairly simple to use with Python. See: https://pypi.python.org/pypi/PuLP/1.1\n",
    "\n"
   ]
  },
  {
   "cell_type": "code",
   "execution_count": 132,
   "metadata": {
    "collapsed": false
   },
   "outputs": [],
   "source": [
    "from pulp import LpProblem, LpVariable, lpSum, LpMinimize, LpAffineExpression, value, solvers\n",
    "import numpy as np\n",
    "\n",
    "def solve_problem(a):\n",
    "    problem = LpProblem('prob', LpMinimize)\n",
    "\n",
    "    # Define the set of coefficients (flips)\n",
    "    x = [LpVariable('x_'+str(i), 0, 1, cat='Binary') for i in range(len(a))]\n",
    "\n",
    "    # Set sum(x) to be the thing to minimise\n",
    "    minimiser = lpSum(LpAffineExpression((var, 1) for var in x))\n",
    "    problem += minimiser\n",
    "\n",
    "    # Add sum(2*x*a)==sum(a), the problem constraint\n",
    "    constraint = lpSum(LpAffineExpression((var, val*2) for var, val in zip(x, a))) == np.sum(a)\n",
    "    problem += constraint \n",
    "\n",
    "    # Solve!\n",
    "    if solvers.PULP_CBC_CMD().solve(problem):\n",
    "        return problem, x\n",
    "    else:\n",
    "        raise Exception(\"Failed to find solution\")\n",
    "        \n",
    "# This list of 120 numbers was generated with a known solution using 60 flips\n",
    "# However, a smaller number should be possible\n",
    "\n",
    "problem, x = solve_problem(a)"
   ]
  },
  {
   "cell_type": "code",
   "execution_count": 133,
   "metadata": {
    "collapsed": false
   },
   "outputs": [
    {
     "name": "stdout",
     "output_type": "stream",
     "text": [
      "Number of flips: 33.0 (max 61)\n",
      "[-46. -40. -40. -39. -39. -37. -36. -36. -35. -35. -35. -35. -34. -33. -31.\n",
      " -30. -30. -30. -30. -30. -30. -28. -28. -28. -28. -27. -26. -26. -25. -24.\n",
      " -24. -24. -24.   1.   1.   1.   1.   1.   2.   2.   2.   3.   3.   3.   3.\n",
      "   4.   4.   5.   5.   6.   6.   6.   6.   7.   7.   7.   7.   7.   7.   7.\n",
      "   7.   7.   8.   8.   8.   8.   8.   8.   8.   9.   9.   9.   9.   9.  10.\n",
      "  10.  10.  10.  11.  11.  12.  13.  13.  13.  14.  14.  14.  14.  14.  14.\n",
      "  15.  15.  15.  15.  16.  16.  16.  16.  17.  17.  17.  18.  18.  18.  18.\n",
      "  18.  19.  19.  19.  19.  19.  19.  20.  20.  20.  21.  21.  22.  22.  22.\n",
      "  23.  23.  24.]\n",
      "Solution sums to: 0.0\n"
     ]
    }
   ],
   "source": [
    "print \"Number of flips: {} (max {})\".format(value(problem.objective), len(a)/2)\n",
    "solution = np.array([-(v.varValue*2-1) * n for v, n in zip(x, a)])\n",
    "print np.sort(solution)\n",
    "print \"Solution sums to:\", np.sum(solution)\n",
    "\n"
   ]
  },
  {
   "cell_type": "markdown",
   "metadata": {},
   "source": [
    "### Crude benchmarking...\n",
    "Can we explore the speed of this solver as $\\a$ grows?\n",
    "\n",
    "Because I'm lazy, we'll just try by repeating the $\\a$ array many times, so this is probably not very representative of reality."
   ]
  },
  {
   "cell_type": "code",
   "execution_count": 129,
   "metadata": {
    "collapsed": false
   },
   "outputs": [
    {
     "data": {
      "text/plain": [
       "<matplotlib.text.Text at 0x10d591c90>"
      ]
     },
     "execution_count": 129,
     "metadata": {},
     "output_type": "execute_result"
    },
    {
     "data": {
      "image/png": "[encoded data removed]",
      "text/plain": [
       "<matplotlib.figure.Figure at 0x11382a250>"
      ]
     },
     "metadata": {},
     "output_type": "display_data"
    }
   ],
   "source": [
    "import matplotlib.pyplot as plt\n",
    "\n",
    "times = []\n",
    "sizes = []\n",
    "for i in range(5):\n",
    "    # Repeat the array i^2 times\n",
    "    g = a * (i*3)\n",
    "    # Solve the problem, record the time\n",
    "    problem, x = solve_problem(g)\n",
    "    sizes.append(len(g))\n",
    "    times.append(problem.solutionTime)\n",
    "\n",
    "plt.plot(sizes, times, 'o-')\n",
    "plt.xlabel('Array size')\n",
    "plt.ylabel('Solution time (Seconds)')"
   ]
  },
  {
   "cell_type": "code",
   "execution_count": null,
   "metadata": {
    "collapsed": true
   },
   "outputs": [],
   "source": []
  }
 ],
 "metadata": {
  "kernelspec": {
   "display_name": "Python 2",
   "language": "python",
   "name": "python2"
  },
  "language_info": {
   "codemirror_mode": {
    "name": "ipython",
    "version": 2
   },
   "file_extension": ".py",
   "mimetype": "text/x-python",
   "name": "python",
   "nbconvert_exporter": "python",
   "pygments_lexer": "ipython2",
   "version": "2.7.6"
  }
 },
 "nbformat": 4,
 "nbformat_minor": 0
}
