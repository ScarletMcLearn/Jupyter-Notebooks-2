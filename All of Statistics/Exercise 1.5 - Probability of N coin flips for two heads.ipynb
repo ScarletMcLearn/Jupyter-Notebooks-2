{
 "cells": [
  {
   "cell_type": "code",
   "execution_count": 1,
   "metadata": {
    "collapsed": true
   },
   "outputs": [],
   "source": [
    "%matplotlib inline"
   ]
  },
  {
   "cell_type": "code",
   "execution_count": 2,
   "metadata": {
    "collapsed": false
   },
   "outputs": [],
   "source": [
    "from random import randint\n",
    "import matplotlib.pyplot as plt\n",
    "from collections import defaultdict"
   ]
  },
  {
   "cell_type": "markdown",
   "metadata": {},
   "source": [
    "# All of Statistics exercise 1.5\n",
    "A coin is flipped until it has landed on heads exactly twice. What is the probability that it takes $n$ flips?\n",
    "\n",
    "$A_n =$ flip $n$ was heads and there was exactly one preceeding head\n",
    "\n",
    "$B_k =$ in $k$ flips there was exactly one head\n",
    "\n",
    "$\\Pr(A_n) = \\frac{1}{2} \\times B_{n-1} $\n",
    "\n",
    "$\\Pr(B_k) = k(\\frac{1}{2})^k$ since there are $k$ ways to have $k$ flips where one flip is heads\n",
    "\n",
    "Hence\n",
    "$$\\begin{align}\n",
    "\\Pr(A_n) &= \\frac{1}{2}(n-1)(\\frac{1}{2})^{n-1} \\\\\n",
    "&= (n-1)(\\frac{1}{2})^n\n",
    "\\end{align}$$"
   ]
  },
  {
   "cell_type": "code",
   "execution_count": 3,
   "metadata": {
    "collapsed": false
   },
   "outputs": [],
   "source": [
    "def flip_until_two_heads():\n",
    "    k = 0\n",
    "    n = 0\n",
    "    while n < 2:\n",
    "        n += randint(0, 1)\n",
    "        k += 1\n",
    "    return k"
   ]
  },
  {
   "cell_type": "code",
   "execution_count": 4,
   "metadata": {
    "collapsed": false
   },
   "outputs": [
    {
     "data": {
      "text/plain": [
       "[<matplotlib.lines.Line2D at 0x2a06d4c5390>]"
      ]
     },
     "execution_count": 4,
     "metadata": {},
     "output_type": "execute_result"
    },
    {
     "data": {
      "image/png": "[encoded data removed]",
      "text/plain": [
       "<matplotlib.figure.Figure at 0x2a06d4c54e0>"
      ]
     },
     "metadata": {},
     "output_type": "display_data"
    }
   ],
   "source": [
    "outcomes = defaultdict(int)\n",
    "N = 10000\n",
    "for _ in range(N):\n",
    "    outcomes[flip_until_two_heads()]+=1\n",
    "y = range(1, max(outcomes.keys()))\n",
    "x1 = [outcomes[i]/N for i in y]\n",
    "x2 = [(i-1)*(1/2)**i for i in y]\n",
    "plt.plot(y, x1, 'ro')\n",
    "plt.plot(y, x2)"
   ]
  }
 ],
 "metadata": {
  "anaconda-cloud": {},
  "kernelspec": {
   "display_name": "Python [Root]",
   "language": "python",
   "name": "Python [Root]"
  },
  "language_info": {
   "codemirror_mode": {
    "name": "ipython",
    "version": 3
   },
   "file_extension": ".py",
   "mimetype": "text/x-python",
   "name": "python",
   "nbconvert_exporter": "python",
   "pygments_lexer": "ipython3",
   "version": "3.5.2"
  }
 },
 "nbformat": 4,
 "nbformat_minor": 0
}
